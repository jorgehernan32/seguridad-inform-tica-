{
 "cells": [
  {
   "cell_type": "code",
   "execution_count": 7,
   "id": "06bfe1b7",
   "metadata": {},
   "outputs": [
    {
     "ename": "SyntaxError",
     "evalue": "invalid syntax (1276236594.py, line 11)",
     "output_type": "error",
     "traceback": [
      "\u001b[1;36m  Cell \u001b[1;32mIn[7], line 11\u001b[1;36m\u001b[0m\n\u001b[1;33m    1 x 5=5\u001b[0m\n\u001b[1;37m      ^\u001b[0m\n\u001b[1;31mSyntaxError\u001b[0m\u001b[1;31m:\u001b[0m invalid syntax\n"
     ]
    }
   ],
   "source": [
    "#tabla de multiplicar infinita\n",
    "\n",
    "#inicio de rango = 1\n",
    "#final_rango = 3\n",
    "#inicio_tabla = 5\n",
    "#final_tabla = 7\n",
    "\n",
    "1 x 5=5\n",
    "1 x 6=6\n",
    "1 x 7=7\n",
    "\n",
    "2 x 5=10\n",
    "2 x 6=12\n",
    "2 x 7=14\n",
    "\n",
    "3 x 5=15\n",
    "3 x 6=18\n",
    "3 x 7=21\n",
    "\n"
   ]
  },
  {
   "cell_type": "code",
   "execution_count": 3,
   "id": "926c89e7",
   "metadata": {},
   "outputs": [
    {
     "name": "stdout",
     "output_type": "stream",
     "text": [
      "Ingresa el rango inicial: 1\n",
      "Ingresa el rango final: 2\n",
      "Ingresa el inicio de la tabla: 4\n",
      "Ingresa el final de la tabla: 5\n",
      "4 x 1 = 4\n",
      "5 x 1 = 5\n",
      "\n",
      "4 x 2 = 8\n",
      "5 x 2 = 10\n",
      "\n"
     ]
    }
   ],
   "source": [
    "inicio_rango = int(input(\"Ingresa el rango inicial: \"))\n",
    "final_rango = int(input(\"Ingresa el rango final: \"))\n",
    "inicio_tabla = int(input(\"Ingresa el inicio de la tabla: \"))\n",
    "final_tabla = int(input(\"Ingresa el final de la tabla: \"))\n",
    "\n",
    "final_rango += 1\n",
    "final_tabla += 1\n",
    "for j in range(inicio_rango, final_rango):\n",
    "    for i in range(inicio_tabla, final_tabla):\n",
    "    \n",
    "        print(i, \"x\", j, \"=\", i * j)\n",
    "    print()"
   ]
  },
  {
   "cell_type": "code",
   "execution_count": null,
   "id": "d4e89513",
   "metadata": {},
   "outputs": [],
   "source": []
  },
  {
   "cell_type": "code",
   "execution_count": null,
   "id": "a591d3c1",
   "metadata": {},
   "outputs": [],
   "source": []
  }
 ],
 "metadata": {
  "kernelspec": {
   "display_name": "Python 3 (ipykernel)",
   "language": "python",
   "name": "python3"
  },
  "language_info": {
   "codemirror_mode": {
    "name": "ipython",
    "version": 3
   },
   "file_extension": ".py",
   "mimetype": "text/x-python",
   "name": "python",
   "nbconvert_exporter": "python",
   "pygments_lexer": "ipython3",
   "version": "3.11.4"
  }
 },
 "nbformat": 4,
 "nbformat_minor": 5
}
