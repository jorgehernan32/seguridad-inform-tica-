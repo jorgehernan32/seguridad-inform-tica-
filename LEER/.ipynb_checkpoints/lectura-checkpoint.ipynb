{
 "cells": [
  {
   "cell_type": "code",
   "execution_count": 5,
   "id": "5bbc2c57",
   "metadata": {},
   "outputs": [
    {
     "name": "stdout",
     "output_type": "stream",
     "text": [
      "Defaulting to user installation because normal site-packages is not writeable\n",
      "Collecting python-docx\n",
      "  Obtaining dependency information for python-docx from https://files.pythonhosted.org/packages/5f/d8/6948f7ac00edf74bfa52b3c5e3073df20284bec1db466d13e668fe991707/python_docx-1.1.0-py3-none-any.whl.metadata\n",
      "  Downloading python_docx-1.1.0-py3-none-any.whl.metadata (2.0 kB)\n",
      "Requirement already satisfied: lxml>=3.1.0 in c:\\programdata\\anaconda3\\lib\\site-packages (from python-docx) (4.9.2)\n",
      "Requirement already satisfied: typing-extensions in c:\\programdata\\anaconda3\\lib\\site-packages (from python-docx) (4.7.1)\n",
      "Downloading python_docx-1.1.0-py3-none-any.whl (239 kB)\n",
      "   ---------------------------------------- 0.0/239.6 kB ? eta -:--:--\n",
      "   ----- ---------------------------------- 30.7/239.6 kB ? eta -:--:--\n",
      "   ----- ---------------------------------- 30.7/239.6 kB ? eta -:--:--\n",
      "   ----------- --------------------------- 71.7/239.6 kB 491.5 kB/s eta 0:00:01\n",
      "   ----------------- -------------------- 112.6/239.6 kB 595.3 kB/s eta 0:00:01\n",
      "   --------------------------- ---------- 174.1/239.6 kB 748.1 kB/s eta 0:00:01\n",
      "   -------------------------------------- 239.6/239.6 kB 865.5 kB/s eta 0:00:00\n",
      "Installing collected packages: python-docx\n",
      "Successfully installed python-docx-1.1.0\n"
     ]
    }
   ],
   "source": [
    "!pip install python-docx"
   ]
  },
  {
   "cell_type": "code",
   "execution_count": 6,
   "id": "d388056a",
   "metadata": {},
   "outputs": [
    {
     "name": "stdout",
     "output_type": "stream",
     "text": [
      "16 de mayo de 2022 - Los destinatarios de una combinación ... de Outlook. La lista existente también puede ser cualquier base de datos a la que se pueda conectar. Si aún no tiene una lista, puede escribir una en Word como parte del proceso de combinación de correspondencia.\n"
     ]
    }
   ],
   "source": [
    "import docx\n",
    "doc = docx.Document(\"prueba.docx\")\n",
    "for paragraph in doc.paragraphs:\n",
    "    texto = paragraph.text\n",
    "    print(texto)\n",
    "\n",
    "\n",
    "\n",
    "\n",
    "\n"
   ]
  },
  {
   "cell_type": "code",
   "execution_count": 14,
   "id": "774a028f",
   "metadata": {},
   "outputs": [
    {
     "name": "stdout",
     "output_type": "stream",
     "text": [
      "Defaulting to user installation because normal site-packages is not writeable\n",
      "Requirement already satisfied: openpyxl in c:\\programdata\\anaconda3\\lib\\site-packages (3.0.10)\n",
      "Requirement already satisfied: et_xmlfile in c:\\programdata\\anaconda3\\lib\\site-packages (from openpyxl) (1.1.0)\n"
     ]
    }
   ],
   "source": [
    "!pip install openpyxl\n"
   ]
  },
  {
   "cell_type": "code",
   "execution_count": 16,
   "id": "5109d64b",
   "metadata": {
    "scrolled": true
   },
   "outputs": [
    {
     "name": "stdout",
     "output_type": "stream",
     "text": [
      "  Unnamed: 0 Unnamed: 1 Unnamed: 2 Unnamed: 3 Unnamed: 4 Unnamed: 5 Unnamed: 6\n",
      "0        NaN        NaN        NaN        NaN        NaN        NaN        NaN\n",
      "1        NaN        NaN        NaN        NaN        NaN        NaN        NaN\n",
      "2        NaN        NaN        NaN        NaN        NaN        NaN        NaN\n",
      "3        NaN        NaN        NaN        NaN        NaN        NaN        NaN\n",
      "4        NaN        NaN        NaN        NaN        NaN        NaN        NaN\n"
     ]
    }
   ],
   "source": [
    "import pandas as pd\n",
    "\n",
    "# Carga el archivo Excel\n",
    "archivo_excel = pd.read_excel('prueba.xlsx')  # Reemplaza 'tu_archivo.xlsx' con el nombre de tu archivo\n",
    "\n",
    "# Trabaja con los datos del archivo Excel\n",
    "print(archivo_excel.head())  # Muestra las primeras filas del DataFrame\n"
   ]
  },
  {
   "cell_type": "code",
   "execution_count": 4,
   "id": "58ff401a",
   "metadata": {},
   "outputs": [
    {
     "name": "stdout",
     "output_type": "stream",
     "text": [
      "Defaulting to user installation because normal site-packages is not writeable\n",
      "Requirement already satisfied: PyPDF2 in c:\\users\\52998\\appdata\\roaming\\python\\python311\\site-packages (3.0.1)\n",
      "Note: you may need to restart the kernel to use updated packages.\n"
     ]
    }
   ],
   "source": [
    "pip install PyPDF2"
   ]
  },
  {
   "cell_type": "code",
   "execution_count": 6,
   "id": "ab1549c2",
   "metadata": {},
   "outputs": [],
   "source": [
    "from PyPDF2 import PdfReader\n",
    "\n",
    "reader = PdfReader(\"pruebas.pdf\")\n",
    "number_of_pages = len(reader.pages)\n",
    "page = reader.pages[0]\n",
    "text = page.extract_text()"
   ]
  },
  {
   "cell_type": "code",
   "execution_count": null,
   "id": "a7129d58",
   "metadata": {},
   "outputs": [],
   "source": []
  }
 ],
 "metadata": {
  "kernelspec": {
   "display_name": "Python 3 (ipykernel)",
   "language": "python",
   "name": "python3"
  },
  "language_info": {
   "codemirror_mode": {
    "name": "ipython",
    "version": 3
   },
   "file_extension": ".py",
   "mimetype": "text/x-python",
   "name": "python",
   "nbconvert_exporter": "python",
   "pygments_lexer": "ipython3",
   "version": "3.11.4"
  }
 },
 "nbformat": 4,
 "nbformat_minor": 5
}
