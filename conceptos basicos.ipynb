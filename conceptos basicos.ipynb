{
 "cells": [
  {
   "cell_type": "markdown",
   "id": "53107e09",
   "metadata": {},
   "source": [
    "#variables"
   ]
  },
  {
   "cell_type": "code",
   "execution_count": 11,
   "id": "236b698c",
   "metadata": {},
   "outputs": [
    {
     "ename": "NameError",
     "evalue": "name 'app' is not defined",
     "output_type": "error",
     "traceback": [
      "\u001b[1;31m---------------------------------------------------------------------------\u001b[0m",
      "\u001b[1;31mNameError\u001b[0m                                 Traceback (most recent call last)",
      "Cell \u001b[1;32mIn[11], line 4\u001b[0m\n\u001b[0;32m      2\u001b[0m app_paterno \u001b[38;5;241m=\u001b[39m \u001b[38;5;124m\"\u001b[39m\u001b[38;5;124mnombre\u001b[39m\u001b[38;5;124m\"\u001b[39m\n\u001b[0;32m      3\u001b[0m app_materno\u001b[38;5;241m=\u001b[39m \u001b[38;5;124m\"\"\"\u001b[39m\u001b[38;5;124mapellido\u001b[39m\u001b[38;5;124m\"\"\"\u001b[39m,\n\u001b[1;32m----> 4\u001b[0m nombrecompleto \u001b[38;5;241m=\u001b[39m \u001b[38;5;124mf\u001b[39m\u001b[38;5;124m\"\u001b[39m\u001b[38;5;132;01m{\u001b[39;00mnombre\u001b[38;5;132;01m}\u001b[39;00m\u001b[38;5;124m \u001b[39m\u001b[38;5;132;01m{\u001b[39;00mapp\u001b[38;5;132;01m}\u001b[39;00m\u001b[38;5;124m\"\u001b[39m\n\u001b[0;32m      5\u001b[0m \u001b[38;5;28mprint\u001b[39m(\u001b[38;5;28mtype\u001b[39m(nombrecomplet))\n\u001b[0;32m      6\u001b[0m edad \u001b[38;5;241m=\u001b[39m \u001b[38;5;241m33\u001b[39m\n",
      "\u001b[1;31mNameError\u001b[0m: name 'app' is not defined"
     ]
    }
   ],
   "source": [
    "nombre = 'luis'\n",
    "app_paterno = \"nombre\"\n",
    "app_materno= \"\"\"apellido\"\"\",\n",
    "#nombrecompleto = f\"{nombre} {app}\"\n",
    "#print(type(nombrecomplet))\n",
    "edad = 33\n",
    "altura = 1.6\n",
    "es_estudiante = false\n",
    "es_docente = true\n",
    "\n",
    "print(type(nombre))\n",
    "print(type(app_paterno))\n",
    "print(type(app_materno))\n",
    "#print(type(nombrecompeto))\n",
    "print(type(edad))\n",
    "print(type(altura))\n",
    "print(type(es_estudiante))\n",
    "print(type(es_docente))\n"
   ]
  },
  {
   "cell_type": "code",
   "execution_count": null,
   "id": "d43b5638",
   "metadata": {},
   "outputs": [],
   "source": []
  }
 ],
 "metadata": {
  "kernelspec": {
   "display_name": "Python 3 (ipykernel)",
   "language": "python",
   "name": "python3"
  },
  "language_info": {
   "codemirror_mode": {
    "name": "ipython",
    "version": 3
   },
   "file_extension": ".py",
   "mimetype": "text/x-python",
   "name": "python",
   "nbconvert_exporter": "python",
   "pygments_lexer": "ipython3",
   "version": "3.11.4"
  }
 },
 "nbformat": 4,
 "nbformat_minor": 5
}
