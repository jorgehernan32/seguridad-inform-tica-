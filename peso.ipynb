{
 "cells": [
  {
   "cell_type": "code",
   "execution_count": 1,
   "id": "450b7031",
   "metadata": {},
   "outputs": [
    {
     "name": "stdout",
     "output_type": "stream",
     "text": [
      "Ingrese su peso en kilogramos: 80\n",
      "Ingrese su altura en metros: 1.60\n",
      "Su IMC es: 31.25\n",
      "Categoría de peso: Obesidad\n"
     ]
    }
   ],
   "source": [
    "def calcular_imc(peso, altura):\n",
    "    # La fórmula del IMC es IMC = peso (kg) / (altura (m) ** 2)\n",
    "    imc = peso / (altura ** 2)\n",
    "    return imc\n",
    "\n",
    "def determinar_categoria(imc):\n",
    "    if imc < 18.5:\n",
    "        return \"Bajo peso\"\n",
    "    elif 18.5 <= imc < 24.9:\n",
    "        return \"Peso saludable\"\n",
    "    elif 25.0 <= imc < 29.9:\n",
    "        return \"Sobrepeso\"\n",
    "    else:\n",
    "        return \"Obesidad\"\n",
    "\n",
    "# Obtener datos del usuario\n",
    "peso = float(input(\"Ingrese su peso en kilogramos: \"))\n",
    "altura = float(input(\"Ingrese su altura en metros: \"))\n",
    "\n",
    "# Calcular el IMC\n",
    "imc = calcular_imc(peso, altura)\n",
    "\n",
    "# Determinar la categoría de peso\n",
    "categoria = determinar_categoria(imc)\n",
    "\n",
    "# Mostrar resultados\n",
    "print(f\"Su IMC es: {imc:.2f}\")\n",
    "print(f\"Categoría de peso: {categoria}\")\n"
   ]
  },
  {
   "cell_type": "code",
   "execution_count": null,
   "id": "03fac4a0",
   "metadata": {},
   "outputs": [],
   "source": []
  }
 ],
 "metadata": {
  "kernelspec": {
   "display_name": "Python 3 (ipykernel)",
   "language": "python",
   "name": "python3"
  },
  "language_info": {
   "codemirror_mode": {
    "name": "ipython",
    "version": 3
   },
   "file_extension": ".py",
   "mimetype": "text/x-python",
   "name": "python",
   "nbconvert_exporter": "python",
   "pygments_lexer": "ipython3",
   "version": "3.11.4"
  }
 },
 "nbformat": 4,
 "nbformat_minor": 5
}
