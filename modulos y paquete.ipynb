{
 "cells": [
  {
   "cell_type": "code",
   "execution_count": null,
   "id": "0aa13927",
   "metadata": {},
   "outputs": [],
   "source": [
    "from mipaquete.modulo_1 import jugar_piedra_papel_tijera()\n",
    "from mipaquete.modulo2 import multiplicar()\n",
    "from mipaquete.modulo3 import calcular_imc()"
   ]
  },
  {
   "cell_type": "code",
   "execution_count": null,
   "id": "f331571a",
   "metadata": {},
   "outputs": [],
   "source": [
    "mayor(5,3)"
   ]
  },
  {
   "cell_type": "code",
   "execution_count": null,
   "id": "a772c72e",
   "metadata": {},
   "outputs": [],
   "source": [
    "print(f\"Categoría de peso: {categoria}\")"
   ]
  },
  {
   "cell_type": "code",
   "execution_count": null,
   "id": "8f8713a0",
   "metadata": {},
   "outputs": [],
   "source": [
    " jugador = input(\"Elige una opción (piedra, papel o tijera), o 'q' para salir: \").lower("
   ]
  }
 ],
 "metadata": {
  "kernelspec": {
   "display_name": "Python 3 (ipykernel)",
   "language": "python",
   "name": "python3"
  },
  "language_info": {
   "codemirror_mode": {
    "name": "ipython",
    "version": 3
   },
   "file_extension": ".py",
   "mimetype": "text/x-python",
   "name": "python",
   "nbconvert_exporter": "python",
   "pygments_lexer": "ipython3",
   "version": "3.11.4"
  }
 },
 "nbformat": 4,
 "nbformat_minor": 5
}
